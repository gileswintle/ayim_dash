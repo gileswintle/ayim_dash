{
 "cells": [
  {
   "cell_type": "code",
   "execution_count": 6,
   "id": "35c9e833-8d4f-43da-8a11-82eef65a40ff",
   "metadata": {},
   "outputs": [],
   "source": [
    "import requests\n",
    "import pandas as pd\n",
    "from bs4 import BeautifulSoup"
   ]
  },
  {
   "cell_type": "code",
   "execution_count": 24,
   "id": "8e895315-3785-489e-aebe-15ab39347a9f",
   "metadata": {},
   "outputs": [],
   "source": [
    "headers = {'user-agent': 'Mozilla/5.0 (Windows NT 10.0; Win64; x64) AppleWebKit/537.36 (KHTML, like Gecko) Chrome/75.0.3770.142 Safari/537.36'}\n",
    "r = requests.get('https://www.investing.com/rates-bonds/eur-5-years-irs-interest-rate-swap-historical-data', headers=headers)"
   ]
  },
  {
   "cell_type": "code",
   "execution_count": 26,
   "id": "808fb3c7-83c1-477b-ae7e-eb46232fe3f6",
   "metadata": {},
   "outputs": [],
   "source": [
    "soup = BeautifulSoup(r.text)"
   ]
  },
  {
   "cell_type": "code",
   "execution_count": 76,
   "id": "278cd8e9-a8b0-4b91-8809-d6ec1e3dd7ed",
   "metadata": {},
   "outputs": [],
   "source": [
    "for d in soup.find_all('div'):\n",
    "    t = soup.select('#curr_table')\n",
    "    t = t[0].decode()\n",
    "    df = pd.read_html(t)\n",
    "    df = df[0]\n",
    "    df.set_index('Date', inplace=True)"
   ]
  },
  {
   "cell_type": "code",
   "execution_count": 77,
   "id": "7ace9fc9-b1d0-4ea4-b349-80669b4519f3",
   "metadata": {},
   "outputs": [
    {
     "name": "stdout",
     "output_type": "stream",
     "text": [
      "              Price   Open   High    Low Change %\n",
      "Date                                             \n",
      "Jun 29, 2022  1.964  2.083  2.102  1.941   -5.71%\n",
      "Jun 28, 2022  2.083  2.011  2.141  1.972    3.58%\n",
      "Jun 27, 2022  2.011  1.883  2.040  1.883    6.97%\n",
      "Jun 26, 2022  1.880  1.893  1.893  1.880   -0.66%\n",
      "Jun 25, 2022  1.893  1.906  1.906  1.893   -0.71%\n",
      "Jun 24, 2022  1.906  1.918  1.977  1.800   -0.63%\n",
      "Jun 23, 2022  1.918  2.173  2.183  1.854  -11.73%\n",
      "Jun 22, 2022  2.173  2.289  2.290  2.124   -5.07%\n",
      "Jun 21, 2022  2.289  2.281  2.302  2.223    0.35%\n",
      "Jun 20, 2022  2.281  2.171  2.286  2.139    4.63%\n",
      "Jun 19, 2022  2.180  2.179  2.180  2.179   -0.57%\n",
      "Jun 17, 2022  2.193  2.269  2.323  2.120   -3.69%\n",
      "Jun 16, 2022  2.276  2.144  2.470  2.111    9.00%\n",
      "Jun 15, 2022  2.089  2.334  2.388  2.058  -10.52%\n",
      "Jun 14, 2022  2.334  2.195  2.370  2.145    4.50%\n",
      "Jun 13, 2022  2.234  1.970  2.257  1.940   13.20%\n",
      "Jun 12, 2022  1.973  1.973  1.973  1.973   -1.25%\n",
      "Jun 11, 2022  1.998  1.998  1.998  1.998    0.00%\n",
      "Jun 10, 2022  1.998  1.860  2.007  1.830    7.42%\n",
      "Jun 09, 2022  1.860  1.752  1.890  1.692    6.16%\n",
      "Jun 08, 2022  1.752  1.701  1.781  1.685    3.00%\n",
      "Jun 07, 2022  1.701  1.719  1.750  1.663   -1.93%\n",
      "Jun 06, 2022  1.735  1.684  1.738  1.654    3.61%\n",
      "Jun 05, 2022  1.674  1.684  1.684  1.674   -0.58%\n",
      "Jun 04, 2022  1.684  1.698  1.698  1.684   -0.84%\n",
      "Jun 03, 2022  1.698  1.651  1.706  1.620    2.85%\n",
      "Jun 02, 2022  1.651  1.574  1.656  1.541    4.89%\n",
      "Jun 01, 2022  1.574  1.511  1.579  1.483    4.17%\n",
      "May 31, 2022  1.511  1.435  1.543  1.409    5.30%\n",
      "May 30, 2022  1.435  1.367  1.461  1.361    4.52%\n",
      "May 29, 2022  1.373  1.357  1.374  1.357   -0.06%\n"
     ]
    }
   ],
   "source": [
    "print(df)"
   ]
  },
  {
   "cell_type": "code",
   "execution_count": null,
   "id": "6f008981-4fd9-4064-8f5f-6e80d748aaa2",
   "metadata": {},
   "outputs": [],
   "source": []
  }
 ],
 "metadata": {
  "kernelspec": {
   "display_name": "Python 3 (ipykernel)",
   "language": "python",
   "name": "python3"
  },
  "language_info": {
   "codemirror_mode": {
    "name": "ipython",
    "version": 3
   },
   "file_extension": ".py",
   "mimetype": "text/x-python",
   "name": "python",
   "nbconvert_exporter": "python",
   "pygments_lexer": "ipython3",
   "version": "3.10.4"
  }
 },
 "nbformat": 4,
 "nbformat_minor": 5
}
